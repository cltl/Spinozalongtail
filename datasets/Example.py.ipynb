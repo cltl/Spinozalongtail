{
 "cells": [
  {
   "cell_type": "code",
   "execution_count": 1,
   "metadata": {
    "collapsed": true
   },
   "outputs": [],
   "source": [
    "from analysis import Analysis"
   ]
  },
  {
   "cell_type": "markdown",
   "metadata": {},
   "source": [
    "# Welcome to the datasets session!\n",
    "In this track we're interested in analyzing and extending current datasets, of course while focusing on the long tail."
   ]
  },
  {
   "cell_type": "markdown",
   "metadata": {},
   "source": [
    "## available corpora\n",
    "We've converted corpora from different disambiguation tasks into the same format.\n",
    "\n",
    "| disambiguation task  | name corpus  | link   | name file in this folder  | \n",
    "|---|---|---|---|\n",
    "| WSD  | senseval 2 all-words  | http://aclweb.org/anthology/S01-1005  |  WSD___SE2-AW |\n",
    "| WSD  | senseval 3 all-words  | http://aclweb.org/anthology/W04-0811  |  WSD___SE3-AW |\n",
    "| WSD  | semeval 2007 all-words  | http://aclweb.org/anthology/S07-1016   | WSD___SE7-AW  |\n",
    "| WSD | semeval 2010 all-words | http://www.aclweb.org/anthology/S10-1013 | WSD___SE10-AW |\n",
    "| WSD | semeval 2013 all-words | http://aclweb.org/anthology/S13-2040 | WSD___SE13-AW |\n",
    "| SRL | CoNLL-2014 shared task training | http://www.cs.upc.edu/~srlconll/st04/st04.html | SRL___CONLL2004 |\n",
    "| EL | AIDA | http://www.mpi-inf.mpg.de/departments/databases-and-information-systems/research/yago-naga/aida/ | EL___AIDA |\n",
    "| EL | WES2015 | http://ceur-ws.org/Vol-1581/paper4.pdf | EL____WES2015 |\n",
    "| EL | Meantime | http://www.newsreader-project.eu/results/data/wikinews/ | EL___Meantime |\n",
    "| EnC | QuizBowl | https://www.cs.umd.edu/~aguha/qbcoreference | EnC___QuizBowl |\n",
    "| EvC | Ecb | http://aclweb.org/anthology/P10-1143 | EvC___Ecb |\n",
    "| EvC | Ecb+ | http://www.lrec-conf.org/proceedings/lrec2014/pdf/840_Paper.pdf | EvC__Ecb+ |"
   ]
  },
  {
   "cell_type": "code",
   "execution_count": 2,
   "metadata": {
    "collapsed": true
   },
   "outputs": [],
   "source": [
    "all_datasets = ['EL___AIDA', 'EL___WES2015', 'EL___Meantime', # Entity Linking\n",
    "                'EnC___quizbowl',  # Entity Coreference\n",
    "                'EvC___ecb', 'EvC___ecb+', # Event Coreference\n",
    "                'SRL___CONLL2004', # Semantic Role Labelling\n",
    "                'WSD___SE10-AW', 'WSD___SE13-AW', 'WSD___SE2-AW', 'WSD___SE3-AW', 'WSD___SE7-AW'] # Word Sense Disambiguation"
   ]
  },
  {
   "cell_type": "markdown",
   "metadata": {},
   "source": [
    "## available metrics\n",
    "The file 'metrics.py' in this folder contains the metrics we used to analyze each corpus. We encourage you to inspect those functions! We also prepare a class that computes these metrics for each task. An example can be found below"
   ]
  },
  {
   "cell_type": "code",
   "execution_count": 3,
   "metadata": {
    "collapsed": false
   },
   "outputs": [
    {
     "name": "stdout",
     "output_type": "stream",
     "text": [
      "moa 2.09\n",
      "moda 0.85\n",
      "emnle 0.85\n",
      "rora 0.0\n",
      "mov 3.4\n",
      "modv 0.66\n",
      "elenm 0.57\n",
      "rorv 0.0\n"
     ]
    }
   ],
   "source": [
    "# example analysis\n",
    "instance = Analysis('EvC___ecb')\n",
    "for attribute in ('moa', 'moda', 'emnle', 'rora',\n",
    "                 'mov', 'modv', 'elenm', 'rorv'):\n",
    "            print(attribute, round(getattr(instance, attribute), 2))"
   ]
  },
  {
   "cell_type": "code",
   "execution_count": null,
   "metadata": {
    "collapsed": true
   },
   "outputs": [],
   "source": []
  },
  {
   "cell_type": "code",
   "execution_count": null,
   "metadata": {
    "collapsed": true
   },
   "outputs": [],
   "source": []
  }
 ],
 "metadata": {
  "kernelspec": {
   "display_name": "Python 3",
   "language": "python",
   "name": "python3"
  },
  "language_info": {
   "codemirror_mode": {
    "name": "ipython",
    "version": 3
   },
   "file_extension": ".py",
   "mimetype": "text/x-python",
   "name": "python",
   "nbconvert_exporter": "python",
   "pygments_lexer": "ipython3",
   "version": "3.4.0"
  }
 },
 "nbformat": 4,
 "nbformat_minor": 0
}
